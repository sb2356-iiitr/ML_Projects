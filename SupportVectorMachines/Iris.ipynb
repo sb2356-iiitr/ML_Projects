{
  "nbformat": 4,
  "nbformat_minor": 0,
  "metadata": {
    "colab": {
      "name": "Iris.ipynb",
      "provenance": [],
      "authorship_tag": "ABX9TyPWtX4YmX5mpYpOGooxOuP5",
      "include_colab_link": true
    },
    "kernelspec": {
      "name": "python3",
      "display_name": "Python 3"
    },
    "language_info": {
      "name": "python"
    }
  },
  "cells": [
    {
      "cell_type": "markdown",
      "metadata": {
        "id": "view-in-github",
        "colab_type": "text"
      },
      "source": [
        "<a href=\"https://colab.research.google.com/github/sb2356-iiitr/ML_Projects/blob/main/SupportVectorMachines/Iris.ipynb\" target=\"_parent\"><img src=\"https://colab.research.google.com/assets/colab-badge.svg\" alt=\"Open In Colab\"/></a>"
      ]
    },
    {
      "cell_type": "markdown",
      "metadata": {
        "id": "OqGpQp8kKsUX"
      },
      "source": [
        "# Iris Classification Problem using SVM\n",
        "\n",
        "Using the following dataset attributes:\n",
        "\n",
        "1. Sepal length in cm\n",
        "2. Sepal width in cm\n",
        "3. Petal length in cm\n",
        "4. Petal width in cm\n",
        "\n",
        "Predict the class of iris plant (*iris setosa*, *iris versicolour*, *iris virginica*)"
      ]
    },
    {
      "cell_type": "code",
      "metadata": {
        "id": "_mZvhPlUKe0T"
      },
      "source": [
        "# Import dataset\n",
        "from sklearn import datasets\n",
        "\n",
        "iris = datasets.load_iris()"
      ],
      "execution_count": 1,
      "outputs": []
    },
    {
      "cell_type": "code",
      "metadata": {
        "colab": {
          "base_uri": "https://localhost:8080/"
        },
        "id": "4mRMeU6HL3eT",
        "outputId": "3822a582-4a78-4f3e-cd4b-3f8b8006fa47"
      },
      "source": [
        "print(iris['DESCR'])"
      ],
      "execution_count": 2,
      "outputs": [
        {
          "output_type": "stream",
          "name": "stdout",
          "text": [
            ".. _iris_dataset:\n",
            "\n",
            "Iris plants dataset\n",
            "--------------------\n",
            "\n",
            "**Data Set Characteristics:**\n",
            "\n",
            "    :Number of Instances: 150 (50 in each of three classes)\n",
            "    :Number of Attributes: 4 numeric, predictive attributes and the class\n",
            "    :Attribute Information:\n",
            "        - sepal length in cm\n",
            "        - sepal width in cm\n",
            "        - petal length in cm\n",
            "        - petal width in cm\n",
            "        - class:\n",
            "                - Iris-Setosa\n",
            "                - Iris-Versicolour\n",
            "                - Iris-Virginica\n",
            "                \n",
            "    :Summary Statistics:\n",
            "\n",
            "    ============== ==== ==== ======= ===== ====================\n",
            "                    Min  Max   Mean    SD   Class Correlation\n",
            "    ============== ==== ==== ======= ===== ====================\n",
            "    sepal length:   4.3  7.9   5.84   0.83    0.7826\n",
            "    sepal width:    2.0  4.4   3.05   0.43   -0.4194\n",
            "    petal length:   1.0  6.9   3.76   1.76    0.9490  (high!)\n",
            "    petal width:    0.1  2.5   1.20   0.76    0.9565  (high!)\n",
            "    ============== ==== ==== ======= ===== ====================\n",
            "\n",
            "    :Missing Attribute Values: None\n",
            "    :Class Distribution: 33.3% for each of 3 classes.\n",
            "    :Creator: R.A. Fisher\n",
            "    :Donor: Michael Marshall (MARSHALL%PLU@io.arc.nasa.gov)\n",
            "    :Date: July, 1988\n",
            "\n",
            "The famous Iris database, first used by Sir R.A. Fisher. The dataset is taken\n",
            "from Fisher's paper. Note that it's the same as in R, but not as in the UCI\n",
            "Machine Learning Repository, which has two wrong data points.\n",
            "\n",
            "This is perhaps the best known database to be found in the\n",
            "pattern recognition literature.  Fisher's paper is a classic in the field and\n",
            "is referenced frequently to this day.  (See Duda & Hart, for example.)  The\n",
            "data set contains 3 classes of 50 instances each, where each class refers to a\n",
            "type of iris plant.  One class is linearly separable from the other 2; the\n",
            "latter are NOT linearly separable from each other.\n",
            "\n",
            ".. topic:: References\n",
            "\n",
            "   - Fisher, R.A. \"The use of multiple measurements in taxonomic problems\"\n",
            "     Annual Eugenics, 7, Part II, 179-188 (1936); also in \"Contributions to\n",
            "     Mathematical Statistics\" (John Wiley, NY, 1950).\n",
            "   - Duda, R.O., & Hart, P.E. (1973) Pattern Classification and Scene Analysis.\n",
            "     (Q327.D83) John Wiley & Sons.  ISBN 0-471-22361-1.  See page 218.\n",
            "   - Dasarathy, B.V. (1980) \"Nosing Around the Neighborhood: A New System\n",
            "     Structure and Classification Rule for Recognition in Partially Exposed\n",
            "     Environments\".  IEEE Transactions on Pattern Analysis and Machine\n",
            "     Intelligence, Vol. PAMI-2, No. 1, 67-71.\n",
            "   - Gates, G.W. (1972) \"The Reduced Nearest Neighbor Rule\".  IEEE Transactions\n",
            "     on Information Theory, May 1972, 431-433.\n",
            "   - See also: 1988 MLC Proceedings, 54-64.  Cheeseman et al\"s AUTOCLASS II\n",
            "     conceptual clustering system finds 3 classes in the data.\n",
            "   - Many, many more ...\n"
          ]
        }
      ]
    },
    {
      "cell_type": "code",
      "metadata": {
        "colab": {
          "base_uri": "https://localhost:8080/"
        },
        "id": "MZcBuI6KL6Gk",
        "outputId": "eb892339-9f93-43d9-aba4-00f3c587ac9a"
      },
      "source": [
        "print(iris['data'][:10])"
      ],
      "execution_count": 3,
      "outputs": [
        {
          "output_type": "stream",
          "name": "stdout",
          "text": [
            "[[5.1 3.5 1.4 0.2]\n",
            " [4.9 3.  1.4 0.2]\n",
            " [4.7 3.2 1.3 0.2]\n",
            " [4.6 3.1 1.5 0.2]\n",
            " [5.  3.6 1.4 0.2]\n",
            " [5.4 3.9 1.7 0.4]\n",
            " [4.6 3.4 1.4 0.3]\n",
            " [5.  3.4 1.5 0.2]\n",
            " [4.4 2.9 1.4 0.2]\n",
            " [4.9 3.1 1.5 0.1]]\n"
          ]
        }
      ]
    },
    {
      "cell_type": "code",
      "metadata": {
        "colab": {
          "base_uri": "https://localhost:8080/"
        },
        "id": "Y2TNyZi2MU8w",
        "outputId": "0f1e4dab-b9ee-47ef-82e5-1b1077e81696"
      },
      "source": [
        "print(iris['feature_names'])"
      ],
      "execution_count": 4,
      "outputs": [
        {
          "output_type": "stream",
          "name": "stdout",
          "text": [
            "['sepal length (cm)', 'sepal width (cm)', 'petal length (cm)', 'petal width (cm)']\n"
          ]
        }
      ]
    },
    {
      "cell_type": "code",
      "metadata": {
        "colab": {
          "base_uri": "https://localhost:8080/"
        },
        "id": "pdbnKeKxMbt3",
        "outputId": "6a1e46dd-95f9-4588-8e79-17909ce20735"
      },
      "source": [
        "print(iris['target'])\n"
      ],
      "execution_count": 5,
      "outputs": [
        {
          "output_type": "stream",
          "name": "stdout",
          "text": [
            "[0 0 0 0 0 0 0 0 0 0 0 0 0 0 0 0 0 0 0 0 0 0 0 0 0 0 0 0 0 0 0 0 0 0 0 0 0\n",
            " 0 0 0 0 0 0 0 0 0 0 0 0 0 1 1 1 1 1 1 1 1 1 1 1 1 1 1 1 1 1 1 1 1 1 1 1 1\n",
            " 1 1 1 1 1 1 1 1 1 1 1 1 1 1 1 1 1 1 1 1 1 1 1 1 1 1 2 2 2 2 2 2 2 2 2 2 2\n",
            " 2 2 2 2 2 2 2 2 2 2 2 2 2 2 2 2 2 2 2 2 2 2 2 2 2 2 2 2 2 2 2 2 2 2 2 2 2\n",
            " 2 2]\n"
          ]
        }
      ]
    },
    {
      "cell_type": "code",
      "metadata": {
        "colab": {
          "base_uri": "https://localhost:8080/"
        },
        "id": "0fsZ7qzsMjYB",
        "outputId": "d5dd7d70-4058-45bd-8a40-bd6aa866290f"
      },
      "source": [
        "print(iris['target_names'])"
      ],
      "execution_count": 6,
      "outputs": [
        {
          "output_type": "stream",
          "name": "stdout",
          "text": [
            "['setosa' 'versicolor' 'virginica']\n"
          ]
        }
      ]
    },
    {
      "cell_type": "code",
      "metadata": {
        "id": "IrHWOAMRMnKA"
      },
      "source": [
        "X = iris['data']\n",
        "Y = iris['target']\n"
      ],
      "execution_count": 7,
      "outputs": []
    },
    {
      "cell_type": "code",
      "metadata": {
        "id": "ykRluCTsMwE_"
      },
      "source": [
        "# Split X and Y dataset into training and testing set\n",
        "from sklearn.model_selection import train_test_split\n",
        "X_train, X_test, Y_train, Y_test = \\\n",
        "train_test_split(X, Y, test_size=0.3, random_state = 1234, stratify = Y)"
      ],
      "execution_count": 8,
      "outputs": []
    },
    {
      "cell_type": "code",
      "metadata": {
        "id": "m4LMndcbNdq0"
      },
      "source": [
        "# Train the SVC\n",
        "from sklearn.svm import SVC\n",
        "from sklearn.metrics import confusion_matrix\n",
        "\n",
        "svc = SVC(kernel='rbf', gamma=1.0)\n",
        "svc.fit(X_train, Y_train)\n",
        "\n",
        "Y_predict = svc.predict(X_test)"
      ],
      "execution_count": 9,
      "outputs": []
    },
    {
      "cell_type": "code",
      "metadata": {
        "id": "mxhFAd2OcRLe"
      },
      "source": [
        "cm_rbf01 = confusion_matrix(Y_test, Y_predict)"
      ],
      "execution_count": 10,
      "outputs": []
    },
    {
      "cell_type": "code",
      "metadata": {
        "colab": {
          "base_uri": "https://localhost:8080/"
        },
        "id": "jGsWyVEbcVTZ",
        "outputId": "093b4935-fc76-4159-f5dd-edfe1933708b"
      },
      "source": [
        "cm_rbf01"
      ],
      "execution_count": 11,
      "outputs": [
        {
          "output_type": "execute_result",
          "data": {
            "text/plain": [
              "array([[15,  0,  0],\n",
              "       [ 0, 14,  1],\n",
              "       [ 0,  0, 15]])"
            ]
          },
          "metadata": {},
          "execution_count": 11
        }
      ]
    },
    {
      "cell_type": "code",
      "metadata": {
        "id": "FkjUn6vSccN-"
      },
      "source": [
        "# RBF kernel with gamma as 10\n",
        "svc = SVC(kernel='rbf', gamma=10)\n",
        "svc.fit(X_train, Y_train)\n",
        "\n",
        "Y_predict = svc.predict(X_test)\n",
        "cm_rbf10 = confusion_matrix(Y_test, Y_predict)"
      ],
      "execution_count": 14,
      "outputs": []
    },
    {
      "cell_type": "code",
      "metadata": {
        "colab": {
          "base_uri": "https://localhost:8080/"
        },
        "id": "0laYuX0qyseV",
        "outputId": "158675e2-d06a-4426-b973-3b7511a7931b"
      },
      "source": [
        "cm_rbf10"
      ],
      "execution_count": 15,
      "outputs": [
        {
          "output_type": "execute_result",
          "data": {
            "text/plain": [
              "array([[14,  0,  1],\n",
              "       [ 0, 13,  2],\n",
              "       [ 0,  0, 15]])"
            ]
          },
          "metadata": {},
          "execution_count": 15
        }
      ]
    },
    {
      "cell_type": "code",
      "metadata": {
        "id": "6O7Lh1__yujC"
      },
      "source": [
        "# Radius had decreased"
      ],
      "execution_count": 16,
      "outputs": []
    },
    {
      "cell_type": "code",
      "metadata": {
        "colab": {
          "base_uri": "https://localhost:8080/"
        },
        "id": "jwSRz1Dhy4p9",
        "outputId": "9911d072-b39a-4181-9a5a-777a452ce91b"
      },
      "source": [
        "# Linear Kernel\n",
        "svc = SVC(kernel='linear')\n",
        "svc.fit(X_train, Y_train)\n",
        "\n",
        "Y_predict = svc.predict(X_test)\n",
        "cm_linear = confusion_matrix(Y_test, Y_predict)\n",
        "cm_linear"
      ],
      "execution_count": 17,
      "outputs": [
        {
          "output_type": "execute_result",
          "data": {
            "text/plain": [
              "array([[15,  0,  0],\n",
              "       [ 0, 13,  2],\n",
              "       [ 0,  0, 15]])"
            ]
          },
          "metadata": {},
          "execution_count": 17
        }
      ]
    },
    {
      "cell_type": "code",
      "metadata": {
        "colab": {
          "base_uri": "https://localhost:8080/"
        },
        "id": "imNoK5FbzYv2",
        "outputId": "7d550153-4f01-463b-dfd1-a643d31a3b4e"
      },
      "source": [
        "# Polynomial Kernel\n",
        "svc = SVC(kernel='poly')\n",
        "svc.fit(X_train, Y_train)\n",
        "\n",
        "Y_predict = svc.predict(X_test)\n",
        "cm_poly = confusion_matrix(Y_test, Y_predict)\n",
        "cm_poly"
      ],
      "execution_count": 18,
      "outputs": [
        {
          "output_type": "execute_result",
          "data": {
            "text/plain": [
              "array([[15,  0,  0],\n",
              "       [ 0, 13,  2],\n",
              "       [ 0,  0, 15]])"
            ]
          },
          "metadata": {},
          "execution_count": 18
        }
      ]
    },
    {
      "cell_type": "code",
      "metadata": {
        "colab": {
          "base_uri": "https://localhost:8080/"
        },
        "id": "43n-z-ymzjBK",
        "outputId": "5a2b05b4-1bd7-427f-c98c-cedcf9944f33"
      },
      "source": [
        "# sigmoid Kernel\n",
        "svc = SVC(kernel='sigmoid')\n",
        "svc.fit(X_train, Y_train)\n",
        "\n",
        "Y_predict = svc.predict(X_test)\n",
        "cm_sigmoid = confusion_matrix(Y_test, Y_predict)\n",
        "cm_sigmoid"
      ],
      "execution_count": 19,
      "outputs": [
        {
          "output_type": "execute_result",
          "data": {
            "text/plain": [
              "array([[ 3,  0, 12],\n",
              "       [13,  0,  2],\n",
              "       [15,  0,  0]])"
            ]
          },
          "metadata": {},
          "execution_count": 19
        }
      ]
    },
    {
      "cell_type": "code",
      "metadata": {
        "id": "3u-V3ZISzpsC"
      },
      "source": [
        ""
      ],
      "execution_count": null,
      "outputs": []
    }
  ]
}